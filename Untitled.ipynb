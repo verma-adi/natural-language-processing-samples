{
 "cells": [
  {
   "cell_type": "code",
   "execution_count": 10,
   "id": "7b4477cf",
   "metadata": {},
   "outputs": [],
   "source": [
    "from nltk.tokenize import word_tokenize"
   ]
  },
  {
   "cell_type": "code",
   "execution_count": 11,
   "id": "16ea5837",
   "metadata": {},
   "outputs": [],
   "source": [
    "doc1 = \"Vapour, Bangalore has a really great terrace seating and an awesome view of the Bangalore skyline\""
   ]
  },
  {
   "cell_type": "code",
   "execution_count": 12,
   "id": "4721d94c",
   "metadata": {},
   "outputs": [
    {
     "name": "stdout",
     "output_type": "stream",
     "text": [
      "['Vapour', ',', 'Bangalore', 'has', 'a', 'really', 'great', 'terrace', 'seating', 'and', 'an', 'awesome', 'view', 'of', 'the', 'Bangalore', 'skyline']\n"
     ]
    }
   ],
   "source": [
    "doc1_token = word_tokenize(doc1)\n",
    "print(doc1_token)"
   ]
  },
  {
   "cell_type": "code",
   "execution_count": 13,
   "id": "0877b95b",
   "metadata": {},
   "outputs": [
    {
     "name": "stdout",
     "output_type": "stream",
     "text": [
      "['Vapour', ',', 'Bangalore', 'really', 'great', 'terrace', 'seating', 'awesome', 'view', 'Bangalore', 'skyline']\n"
     ]
    }
   ],
   "source": [
    "from nltk.corpus import stopwords\n",
    "doc1_finale = [word for word in doc1_token if word not in stopwords.words('english')]\n",
    "print(doc1_finale)"
   ]
  },
  {
   "cell_type": "code",
   "execution_count": 17,
   "id": "928bf5d3",
   "metadata": {},
   "outputs": [],
   "source": [
    "from nltk import FreqDist\n",
    "import seaborn as sns\n",
    "%matplotlib inline"
   ]
  },
  {
   "cell_type": "code",
   "execution_count": 18,
   "id": "bd52ca56",
   "metadata": {},
   "outputs": [],
   "source": [
    "def plot_word_frequency(words, top_n=10):\n",
    "    word_freq = FreqDist(words)\n",
    "    labels = [element[0] for element in word_freq.most_common(top_n)]\n",
    "    counts = [element[1] for element in word_freq.most_common(top_n)]\n",
    "    plot = sns.barplot(labels, counts)\n",
    "    return plot"
   ]
  },
  {
   "cell_type": "code",
   "execution_count": 19,
   "id": "84c7c1c7",
   "metadata": {},
   "outputs": [
    {
     "name": "stderr",
     "output_type": "stream",
     "text": [
      "/home/aditya/Upgrad/upgrad_env/lib/python3.6/site-packages/seaborn/_decorators.py:43: FutureWarning: Pass the following variables as keyword args: x, y. From version 0.12, the only valid positional argument will be `data`, and passing other arguments without an explicit keyword will result in an error or misinterpretation.\n",
      "  FutureWarning\n"
     ]
    },
    {
     "data": {
      "text/plain": [
       "<AxesSubplot:>"
      ]
     },
     "execution_count": 19,
     "metadata": {},
     "output_type": "execute_result"
    },
    {
     "data": {
      "image/png": "[encoded data removed]",
      "text/plain": [
       "<Figure size 432x288 with 1 Axes>"
      ]
     },
     "metadata": {
      "needs_background": "light"
     },
     "output_type": "display_data"
    }
   ],
   "source": [
    "plot_word_frequency(doc1_finale, 20)"
   ]
  },
  {
   "cell_type": "code",
   "execution_count": 20,
   "id": "a2d0eacc",
   "metadata": {},
   "outputs": [],
   "source": [
    "doc2 = \"The beer at Vapour, Bangalore was amazing. My favourites are the wheat beer and the ale beer.\""
   ]
  },
  {
   "cell_type": "code",
   "execution_count": 22,
   "id": "c3acda23",
   "metadata": {},
   "outputs": [
    {
     "name": "stdout",
     "output_type": "stream",
     "text": [
      "['The', 'beer', 'at', 'Vapour', ',', 'Bangalore', 'was', 'amazing', '.', 'My', 'favourites', 'are', 'the', 'wheat', 'beer', 'and', 'the', 'ale', 'beer', '.']\n"
     ]
    }
   ],
   "source": [
    "doc2_tokenize = word_tokenize(doc2)\n",
    "print(doc2_tokenize)"
   ]
  },
  {
   "cell_type": "code",
   "execution_count": 24,
   "id": "4524f5d8",
   "metadata": {},
   "outputs": [
    {
     "name": "stdout",
     "output_type": "stream",
     "text": [
      "['The', 'beer', 'Vapour', ',', 'Bangalore', 'amazing', '.', 'My', 'favourites', 'wheat', 'beer', 'ale', 'beer', '.']\n"
     ]
    }
   ],
   "source": [
    "doc2_finale = [word for word in doc2_tokenize if word not in stopwords.words('english')]\n",
    "print(doc2_finale)"
   ]
  },
  {
   "cell_type": "code",
   "execution_count": 25,
   "id": "c7b7e9ce",
   "metadata": {},
   "outputs": [
    {
     "name": "stderr",
     "output_type": "stream",
     "text": [
      "/home/aditya/Upgrad/upgrad_env/lib/python3.6/site-packages/seaborn/_decorators.py:43: FutureWarning: Pass the following variables as keyword args: x, y. From version 0.12, the only valid positional argument will be `data`, and passing other arguments without an explicit keyword will result in an error or misinterpretation.\n",
      "  FutureWarning\n"
     ]
    },
    {
     "data": {
      "text/plain": [
       "<AxesSubplot:>"
      ]
     },
     "execution_count": 25,
     "metadata": {},
     "output_type": "execute_result"
    },
    {
     "data": {
      "image/png": "[encoded data removed]",
      "text/plain": [
       "<Figure size 432x288 with 1 Axes>"
      ]
     },
     "metadata": {
      "needs_background": "light"
     },
     "output_type": "display_data"
    }
   ],
   "source": [
    "plot_word_frequency(doc2_finale, 20)"
   ]
  },
  {
   "cell_type": "code",
   "execution_count": 31,
   "id": "cf8e7611",
   "metadata": {},
   "outputs": [
    {
     "name": "stdout",
     "output_type": "stream",
     "text": [
      "['Vapour', ',', 'Bangalore', 'best', 'view', 'Bangalore', '.']\n"
     ]
    }
   ],
   "source": [
    "doc3 = \"Vapour, Bangalore has the best view in Bangalore.\"\n",
    "doc3_tokenize = word_tokenize(doc3)\n",
    "\n",
    "\n",
    "doc3_finale = [word for word in doc3_tokenize if word not in stopwords.words('english')]\n",
    "print(doc3_finale)"
   ]
  },
  {
   "cell_type": "code",
   "execution_count": 32,
   "id": "ae699536",
   "metadata": {},
   "outputs": [
    {
     "name": "stderr",
     "output_type": "stream",
     "text": [
      "/home/aditya/Upgrad/upgrad_env/lib/python3.6/site-packages/seaborn/_decorators.py:43: FutureWarning: Pass the following variables as keyword args: x, y. From version 0.12, the only valid positional argument will be `data`, and passing other arguments without an explicit keyword will result in an error or misinterpretation.\n",
      "  FutureWarning\n"
     ]
    },
    {
     "data": {
      "text/plain": [
       "<AxesSubplot:>"
      ]
     },
     "execution_count": 32,
     "metadata": {},
     "output_type": "execute_result"
    },
    {
     "data": {
      "image/png": "[encoded data removed]",
      "text/plain": [
       "<Figure size 432x288 with 1 Axes>"
      ]
     },
     "metadata": {
      "needs_background": "light"
     },
     "output_type": "display_data"
    }
   ],
   "source": [
    "plot_word_frequency(doc3_finale, 20)"
   ]
  },
  {
   "cell_type": "code",
   "execution_count": 38,
   "id": "ef441582",
   "metadata": {},
   "outputs": [
    {
     "name": "stdout",
     "output_type": "stream",
     "text": [
      "       alon       arm     began      belt   beneath    blown  blunderbuss  \\\n",
      "0  0.000000  0.000000  0.347067  0.000000  0.000000  0.00000     0.000000   \n",
      "1  0.000000  0.141194  0.000000  0.175006  0.175006  0.00000     0.175006   \n",
      "2  0.000000  0.000000  0.000000  0.000000  0.000000  0.20716     0.000000   \n",
      "3  0.216666  0.000000  0.000000  0.000000  0.000000  0.00000     0.000000   \n",
      "4  0.000000  0.203935  0.000000  0.000000  0.000000  0.00000     0.000000   \n",
      "\n",
      "        box     bridl      brim  ...     torch      turn      walk     well  \\\n",
      "0  0.000000  0.000000  0.000000  ...  0.000000  0.000000  0.000000  0.00000   \n",
      "1  0.175006  0.000000  0.000000  ...  0.175006  0.000000  0.000000  0.00000   \n",
      "2  0.000000  0.000000  0.000000  ...  0.000000  0.000000  0.000000  0.20716   \n",
      "3  0.000000  0.000000  0.216666  ...  0.000000  0.000000  0.000000  0.00000   \n",
      "4  0.000000  0.252773  0.000000  ...  0.000000  0.252773  0.252773  0.00000   \n",
      "\n",
      "        wet     wheel      wipe    within      wore    wreath  \n",
      "0  0.000000  0.000000  0.000000  0.000000  0.000000  0.347067  \n",
      "1  0.000000  0.000000  0.000000  0.000000  0.175006  0.000000  \n",
      "2  0.000000  0.000000  0.000000  0.000000  0.000000  0.000000  \n",
      "3  0.216666  0.000000  0.216666  0.000000  0.000000  0.000000  \n",
      "4  0.000000  0.252773  0.000000  0.252773  0.000000  0.000000  \n",
      "\n",
      "[5 rows x 89 columns]\n",
      "-1\n"
     ]
    }
   ],
   "source": [
    "import pandas as pd\n",
    "from nltk.tokenize import word_tokenize\n",
    "from nltk.corpus import stopwords\n",
    "from nltk.stem.porter import PorterStemmer\n",
    "from sklearn.feature_extraction.text import TfidfVectorizer\n",
    "\n",
    "# consider the following set of documents\n",
    "documents = [\"The coach lumbered on again, with heavier wreaths of mist closing round it as it began the descent.\",\n",
    "             \"The guard soon replaced his blunderbuss in his arm-chest, and, having looked to the rest of its contents, and having looked to the supplementary pistols that he wore in his belt, looked to a smaller chest beneath his seat, in which there were a few smith's tools, a couple of torches, and a tinder-box.\",\n",
    "            \"For he was furnished with that completeness that if the coach-lamps had been blown and stormed out, which did occasionally happen, he had only to shut himself up inside, keep the flint and steel sparks well off the straw, and get a light with tolerable safety and ease (if he were lucky) in five minutes.\",\n",
    "            \"Jerry, left alone in the mist and darkness, dismounted meanwhile, not only to ease his spent horse, but to wipe the mud from his face, and shake the wet out of his hat-brim, which might be capable of holding about half a gallon.\",\n",
    "            \"After standing with the bridle over his heavily-splashed arm, until the wheels of the mail were no longer within hearing and the night was quite still again, he turned to walk down the hill.\"]\n",
    "\n",
    "\n",
    "# preprocess document\n",
    "def preprocess(document):\n",
    "    'changes document to lower case, removes stopwords and stems words'\n",
    "\n",
    "    # change sentence to lower case\n",
    "    document = document.lower()\n",
    "\n",
    "    # tokenize into words\n",
    "    words = word_tokenize(document)\n",
    "\n",
    "    # remove stop words\n",
    "    words = [word for word in words if word not in stopwords.words(\"english\")]\n",
    "    \n",
    "    # stem\n",
    "    stemmer = PorterStemmer()\n",
    "    words = [stemmer.stem(word) for word in words]\n",
    "    \n",
    "    # join words to make sentence\n",
    "    document = \" \".join(words)\n",
    "    \n",
    "    return document\n",
    "\n",
    "# preprocess documents using the preprocess function and store the documents again in a list\n",
    "documents = [preprocess(documents) for documents in documents]\n",
    "\n",
    "# create tf-idf matrix\n",
    "## write code here ##\n",
    "vectorizer = TfidfVectorizer()\n",
    "tfidf_model = vectorizer.fit_transform(documents)\n",
    "#print(tfidf_model)\n",
    "temp = pd.DataFrame(tfidf_model.toarray(), columns = vectorizer.get_feature_names())\n",
    "print(temp)\n",
    "\n",
    "\n",
    "# extract score\n",
    "score = -1  # replace -1 with the score of 'belt' in document two. You can manually write the value by looking at the tf_idf model\n",
    "\n",
    "# print the score -- don't change the following piece od code, it's used to evaluate your code\n",
    "print(round(score, 4))"
   ]
  },
  {
   "cell_type": "code",
   "execution_count": null,
   "id": "1ca470ce",
   "metadata": {},
   "outputs": [],
   "source": []
  }
 ],
 "metadata": {
  "kernelspec": {
   "display_name": "Python 3",
   "language": "python",
   "name": "python3"
  },
  "language_info": {
   "codemirror_mode": {
    "name": "ipython",
    "version": 3
   },
   "file_extension": ".py",
   "mimetype": "text/x-python",
   "name": "python",
   "nbconvert_exporter": "python",
   "pygments_lexer": "ipython3",
   "version": "3.6.9"
  }
 },
 "nbformat": 4,
 "nbformat_minor": 5
}
