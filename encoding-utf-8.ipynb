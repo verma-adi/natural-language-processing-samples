{
 "cells": [
  {
   "cell_type": "code",
   "execution_count": 2,
   "id": "a6b80326",
   "metadata": {},
   "outputs": [
    {
     "name": "stdout",
     "output_type": "stream",
     "text": [
      "Default String:  ₹50 \n",
      " Type of string: <class 'str'> \n",
      "\n"
     ]
    }
   ],
   "source": [
    "# create a string\n",
    "amount = u\"₹50\"\n",
    "print('Default String: ', amount, '\\n', 'Type of string:', type(amount), '\\n')"
   ]
  },
  {
   "cell_type": "code",
   "execution_count": 3,
   "id": "951c2496",
   "metadata": {},
   "outputs": [
    {
     "name": "stdout",
     "output_type": "stream",
     "text": [
      "Encoded to UTF-8 b'\\xe2\\x82\\xb950' \n",
      " Type of string <class 'bytes'> \n",
      "\n"
     ]
    }
   ],
   "source": [
    "# encode to UTF-8 byte format\n",
    "amount_encoded = amount.encode('UTF-8')\n",
    "print(\"Encoded to UTF-8\", amount_encoded, '\\n', \"Type of string\", type(amount_encoded), '\\n')"
   ]
  },
  {
   "cell_type": "code",
   "execution_count": 4,
   "id": "f478cdb5",
   "metadata": {},
   "outputs": [
    {
     "name": "stdout",
     "output_type": "stream",
     "text": [
      "Decoded string: ₹50 \n",
      " type: <class 'str'>\n"
     ]
    }
   ],
   "source": [
    "# decode\n",
    "amount_decoded = amount_encoded.decode('UTF-8')\n",
    "print(\"Decoded string:\", amount_decoded, '\\n', \"type:\", type(amount_decoded))"
   ]
  },
  {
   "cell_type": "code",
   "execution_count": null,
   "id": "8ed5905d",
   "metadata": {},
   "outputs": [],
   "source": []
  }
 ],
 "metadata": {
  "kernelspec": {
   "display_name": "Python 3",
   "language": "python",
   "name": "python3"
  },
  "language_info": {
   "codemirror_mode": {
    "name": "ipython",
    "version": 3
   },
   "file_extension": ".py",
   "mimetype": "text/x-python",
   "name": "python",
   "nbconvert_exporter": "python",
   "pygments_lexer": "ipython3",
   "version": "3.6.9"
  }
 },
 "nbformat": 4,
 "nbformat_minor": 5
}
