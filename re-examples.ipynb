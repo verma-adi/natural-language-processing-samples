{
 "cells": [
  {
   "cell_type": "code",
   "execution_count": 1,
   "id": "b5bc3aef",
   "metadata": {},
   "outputs": [],
   "source": [
    "import re"
   ]
  },
  {
   "cell_type": "code",
   "execution_count": 2,
   "id": "e70a515d",
   "metadata": {},
   "outputs": [],
   "source": [
    "string = \"Hello ravi how are you? say something ravi\"\n",
    "pattern = \"ravi\""
   ]
  },
  {
   "cell_type": "code",
   "execution_count": 3,
   "id": "6d0749cb",
   "metadata": {},
   "outputs": [],
   "source": [
    "result = re.search(pattern,string)"
   ]
  },
  {
   "cell_type": "code",
   "execution_count": 4,
   "id": "0e34526b",
   "metadata": {},
   "outputs": [
    {
     "name": "stdout",
     "output_type": "stream",
     "text": [
      "found\n"
     ]
    }
   ],
   "source": [
    "#evaluate result\n",
    "if result != None :\n",
    "    print('found')\n",
    "else:\n",
    "    print('not found')"
   ]
  },
  {
   "cell_type": "code",
   "execution_count": 5,
   "id": "f444d7ef",
   "metadata": {},
   "outputs": [
    {
     "name": "stdout",
     "output_type": "stream",
     "text": [
      "6\n"
     ]
    }
   ],
   "source": [
    "# get starting position\n",
    "print(result.start())"
   ]
  },
  {
   "cell_type": "code",
   "execution_count": 6,
   "id": "8fa5d2de",
   "metadata": {},
   "outputs": [
    {
     "name": "stdout",
     "output_type": "stream",
     "text": [
      "10\n"
     ]
    }
   ],
   "source": [
    "# get ending position\n",
    "print(result.end())"
   ]
  },
  {
   "cell_type": "code",
   "execution_count": 7,
   "id": "6a9f3b5e",
   "metadata": {},
   "outputs": [
    {
     "name": "stdout",
     "output_type": "stream",
     "text": [
      "ravi\n"
     ]
    }
   ],
   "source": [
    "# print output of search\n",
    "print(result.group())"
   ]
  },
  {
   "cell_type": "code",
   "execution_count": 8,
   "id": "61f1559e",
   "metadata": {},
   "outputs": [],
   "source": [
    "# define a function to search the pattern\n",
    "\n",
    "def find_pattern(text, pattern):\n",
    "    if re.search(pattern, text):\n",
    "        return re.search(pattern, text)\n",
    "    else:\n",
    "        return \"Not Found\"\n"
   ]
  },
  {
   "cell_type": "code",
   "execution_count": 9,
   "id": "9cda7b43",
   "metadata": {},
   "outputs": [
    {
     "name": "stdout",
     "output_type": "stream",
     "text": [
      "<_sre.SRE_Match object; span=(0, 2), match='ab'>\n"
     ]
    }
   ],
   "source": [
    "print(find_pattern(\"abc\", \"ab?\"))"
   ]
  },
  {
   "cell_type": "code",
   "execution_count": 10,
   "id": "4faa1c4f",
   "metadata": {},
   "outputs": [
    {
     "name": "stdout",
     "output_type": "stream",
     "text": [
      "<_sre.SRE_Match object; span=(0, 1), match='a'>\n"
     ]
    }
   ],
   "source": [
    "print(find_pattern(\"acd\", \"ab?\"))"
   ]
  },
  {
   "cell_type": "code",
   "execution_count": 11,
   "id": "09d15947",
   "metadata": {},
   "outputs": [
    {
     "name": "stdout",
     "output_type": "stream",
     "text": [
      "None\n"
     ]
    }
   ],
   "source": [
    "string = 'Balasubrahmanyam'\n",
    "\n",
    "# regex pattern\n",
    "pattern = '^.{3,15}$' # write your regex here\n",
    "\n",
    "# check whether pattern is present in string or not\n",
    "result = re.search(pattern, string)\n",
    "print(result)"
   ]
  },
  {
   "cell_type": "code",
   "execution_count": 15,
   "id": "608ad9e3",
   "metadata": {},
   "outputs": [
    {
     "name": "stdout",
     "output_type": "stream",
     "text": [
      "<_sre.SRE_Match object; span=(4, 7), match='ing'>\n"
     ]
    }
   ],
   "source": [
    "import re\n",
    "word = 'palying'\n",
    "\n",
    "print(re.search('ing$', word))"
   ]
  },
  {
   "cell_type": "code",
   "execution_count": 16,
   "id": "72937b55",
   "metadata": {},
   "outputs": [
    {
     "name": "stdout",
     "output_type": "stream",
     "text": [
      "found\n"
     ]
    }
   ],
   "source": [
    "if re.search('ing$', word) is not None:\n",
    "    print('found')"
   ]
  },
  {
   "cell_type": "code",
   "execution_count": 17,
   "id": "be226909",
   "metadata": {},
   "outputs": [
    {
     "name": "stdout",
     "output_type": "stream",
     "text": [
      "paly\n"
     ]
    }
   ],
   "source": [
    "print(re.sub('ing$', '', word))"
   ]
  },
  {
   "cell_type": "code",
   "execution_count": null,
   "id": "0d4bba49",
   "metadata": {},
   "outputs": [],
   "source": []
  }
 ],
 "metadata": {
  "kernelspec": {
   "display_name": "Python 3",
   "language": "python",
   "name": "python3"
  },
  "language_info": {
   "codemirror_mode": {
    "name": "ipython",
    "version": 3
   },
   "file_extension": ".py",
   "mimetype": "text/x-python",
   "name": "python",
   "nbconvert_exporter": "python",
   "pygments_lexer": "ipython3",
   "version": "3.6.9"
  }
 },
 "nbformat": 4,
 "nbformat_minor": 5
}
