{
 "cells": [
  {
   "cell_type": "code",
   "execution_count": 1,
   "metadata": {},
   "outputs": [],
   "source": [
    "import re\n",
    "from collections import Counter"
   ]
  },
  {
   "cell_type": "code",
   "execution_count": 2,
   "metadata": {},
   "outputs": [],
   "source": [
    "# function to tokenise words\n",
    "def words(document):\n",
    "    \"Convert text to lower case and tokenise the document\"\n",
    "    return re.findall(r'\\w+', document.lower())"
   ]
  },
  {
   "cell_type": "code",
   "execution_count": 3,
   "metadata": {},
   "outputs": [],
   "source": [
    "# create a frequency table of all the words of the document\n",
    "all_words = Counter(words(open('big.txt').read()))"
   ]
  },
  {
   "cell_type": "code",
   "execution_count": 4,
   "metadata": {},
   "outputs": [
    {
     "data": {
      "text/plain": [
       "135"
      ]
     },
     "execution_count": 4,
     "metadata": {},
     "output_type": "execute_result"
    }
   ],
   "source": [
    "# check frequency of a random word, say, 'chair'\n",
    "all_words['chair']"
   ]
  },
  {
   "cell_type": "code",
   "execution_count": 5,
   "metadata": {},
   "outputs": [
    {
     "data": {
      "text/plain": [
       "[('the', 79809),\n",
       " ('of', 40024),\n",
       " ('and', 38312),\n",
       " ('to', 28765),\n",
       " ('in', 22023),\n",
       " ('a', 21124),\n",
       " ('that', 12512),\n",
       " ('he', 12401),\n",
       " ('was', 11410),\n",
       " ('it', 10681)]"
      ]
     },
     "execution_count": 5,
     "metadata": {},
     "output_type": "execute_result"
    }
   ],
   "source": [
    "# look at top 10 frequent words\n",
    "all_words.most_common(10)"
   ]
  },
  {
   "cell_type": "code",
   "execution_count": 6,
   "metadata": {},
   "outputs": [],
   "source": [
    "def edits_one(word):\n",
    "    \"Create all edits that are one edit away from `word`.\"\n",
    "    alphabets    = 'abcdefghijklmnopqrstuvwxyz'\n",
    "    splits     = [(word[:i], word[i:])                   for i in range(len(word) + 1)]\n",
    "    deletes    = [left + right[1:]                       for left, right in splits if right]\n",
    "    inserts    = [left + c + right                       for left, right in splits for c in alphabets]\n",
    "    replaces   = [left + c + right[1:]                   for left, right in splits if right for c in alphabets]\n",
    "    transposes = [left + right[1] + right[0] + right[2:] for left, right in splits if len(right)>1]\n",
    "    return set(deletes + inserts + replaces + transposes)"
   ]
  },
  {
   "cell_type": "code",
   "execution_count": 7,
   "metadata": {},
   "outputs": [],
   "source": [
    "def edits_two(word):\n",
    "    \"Create all edits that are two edits away from `word`.\"\n",
    "    return (e2 for e1 in edits_one(word) for e2 in edits_one(e1))"
   ]
  },
  {
   "cell_type": "code",
   "execution_count": 8,
   "metadata": {},
   "outputs": [],
   "source": [
    "def known(words):\n",
    "    \"The subset of `words` that appear in the `all_words`.\"\n",
    "    return set(word for word in words if word in all_words)"
   ]
  },
  {
   "cell_type": "code",
   "execution_count": 9,
   "metadata": {},
   "outputs": [],
   "source": [
    "def possible_corrections(word):\n",
    "    \"Generate possible spelling corrections for word.\"\n",
    "    return (known([word]) or known(edits_one(word)) or known(edits_two(word)) or [word])"
   ]
  },
  {
   "cell_type": "code",
   "execution_count": 10,
   "metadata": {},
   "outputs": [],
   "source": [
    "def prob(word, N=sum(all_words.values())): \n",
    "    \"Probability of `word`: Number of appearances of 'word' / total number of tokens\"\n",
    "    return all_words[word] / N"
   ]
  },
  {
   "cell_type": "code",
   "execution_count": 11,
   "metadata": {},
   "outputs": [
    {
     "name": "stdout",
     "output_type": "stream",
     "text": [
      "336\n",
      "{'monnrey', 'fonney', 'monnvey', 'monner', 'mokney', 'monnyy', 'monnty', 'tonney', 'monzey', 'monneh', 'mocnney', 'monneyz', 'monkney', 'mobney', 'mojney', 'monnmy', 'monneqy', 'mownney', 'moznney', 'mozney', 'monnsy', 'monpey', 'monbney', 'monneyb', 'moniney', 'monqney', 'monneyq', 'monneyo', 'onney', 'imonney', 'monnepy', 'monngey', 'monsey', 'mongney', 'monnety', 'pmonney', 'zmonney', 'monhey', 'monjney', 'xmonney', 'menney', 'monfney', 'sonney', 'molney', 'movney', 'mlonney', 'monnay', 'monnefy', 'monnuey', 'moxnney', 'monnfey', 'monpney', 'monnpey', 'monneyh', 'monneo', 'monneiy', 'motney', 'moncney', 'monnewy', 'monneyy', 'monneyp', 'monneys', 'omonney', 'ronney', 'manney', 'monneyj', 'ionney', 'mdonney', 'mocney', 'mooney', 'aonney', 'monneyf', 'monncy', 'money', 'mnnney', 'monnvy', 'honney', 'mhnney', 'monmney', 'monuey', 'monncey', 'monwney', 'mtonney', 'monneyd', 'nmonney', 'monneyl', 'mtnney', 'monneb', 'monneyk', 'momney', 'mconney', 'monnet', 'moonney', 'monley', 'vmonney', 'monnevy', 'monneyr', 'mondey', 'monnev', 'monneay', 'mounney', 'mionney', 'monnoy', 'monnejy', 'mohney', 'konney', 'monnezy', 'monuney', 'motnney', 'mofney', 'mobnney', 'mjonney', 'monneyt', 'wmonney', 'mongey', 'monnemy', 'monndey', 'mgnney', 'mojnney', 'montney', 'fmonney', 'zonney', 'monnfy', 'moeney', 'monnkey', 'monngy', 'monne', 'qonney', 'emonney', 'mmnney', 'mmonney', 'mfnney', 'monwey', 'mbonney', 'monnuy', 'monnqey', 'monneyv', 'monneg', 'monneym', 'moneney', 'mcnney', 'monnby', 'monyey', 'mznney', 'monnexy', 'montey', 'rmonney', 'mkonney', 'monnky', 'monneky', 'monmey', 'mosnney', 'moynney', 'mondney', 'monneny', 'mvnney', 'modnney', 'mjnney', 'mnney', 'monnew', 'gmonney', 'mfonney', 'mornney', 'monzney', 'mopnney', 'monneey', 'mzonney', 'monneyn', 'monneu', 'monny', 'umonney', 'monnes', 'monneyx', 'ponney', 'yonney', 'monnen', 'monsney', 'monntey', 'mowney', 'monnep', 'monneby', 'mopney', 'monnex', 'vonney', 'mpnney', 'monneyu', 'monney', 'monbey', 'monnzy', 'moinney', 'moyney', 'monrney', 'monnley', 'mponney', 'monneuy', 'mdnney', 'mynney', 'monrey', 'omnney', 'monneya', 'monqey', 'monnel', 'meonney', 'monlney', 'monneyi', 'nonney', 'monnyey', 'monnzey', 'monvney', 'monnjey', 'kmonney', 'cmonney', 'ymonney', 'moneey', 'monnely', 'monnsey', 'monnegy', 'mqonney', 'monnxey', 'xonney', 'molnney', 'monndy', 'monnhy', 'mknney', 'bmonney', 'uonney', 'monhney', 'mogney', 'donney', 'moenney', 'monnef', 'monnea', 'monnaey', 'monnwy', 'oonney', 'monnez', 'monoey', 'mononey', 'mwnney', 'mhonney', 'monnbey', 'mxnney', 'momnney', 'mvonney', 'monnej', 'minney', 'mlnney', 'monneyg', 'moaney', 'monjey', 'monvey', 'moniey', 'mognney', 'lonney', 'monnpy', 'maonney', 'monyney', 'morney', 'monnwey', 'monnery', 'modney', 'mronney', 'monfey', 'monnee', 'mnoney', 'msonney', 'hmonney', 'monaney', 'eonney', 'monnye', 'monnxy', 'monneyc', 'monnney', 'monkey', 'moneny', 'mohnney', 'movnney', 'monneye', 'monnek', 'mosney', 'monnem', 'jonney', 'tmonney', 'monaey', 'monniey', 'monnei', 'monnesy', 'mgonney', 'moknney', 'dmonney', 'msnney', 'moncey', 'myonney', 'wonney', 'moxney', 'mxonney', 'monnqy', 'mbnney', 'monnehy', 'monnjy', 'monnec', 'mqnney', 'mwonney', 'moanney', 'monxney', 'monnhey', 'monneoy', 'muonney', 'conney', 'gonney', 'moiney', 'mnonney', 'mofnney', 'monniy', 'jmonney', 'monnly', 'moqney', 'qmonney', 'mrnney', 'bonney', 'monxey', 'monneyw', 'monnmey', 'monnry', 'moqnney', 'monnoey', 'smonney', 'monnecy', 'monnedy', 'amonney', 'lmonney', 'munney', 'monned', 'monnny', 'monneq', 'mouney'}\n"
     ]
    }
   ],
   "source": [
    "print(len(set(edits_one(\"monney\"))))\n",
    "print(edits_one(\"monney\"))"
   ]
  },
  {
   "cell_type": "code",
   "execution_count": 12,
   "metadata": {},
   "outputs": [
    {
     "name": "stdout",
     "output_type": "stream",
     "text": [
      "{'monkey', 'money'}\n"
     ]
    }
   ],
   "source": [
    "print(known(edits_one(\"monney\")))"
   ]
  },
  {
   "cell_type": "code",
   "execution_count": 13,
   "metadata": {},
   "outputs": [
    {
     "name": "stdout",
     "output_type": "stream",
     "text": [
      "51013\n",
      "{'monkey', 'money'}\n"
     ]
    }
   ],
   "source": [
    "# Let's look at words that are two edits away\n",
    "print(len(set(edits_two(\"monney\"))))\n",
    "print(known(edits_one(\"monney\")))"
   ]
  },
  {
   "cell_type": "code",
   "execution_count": 14,
   "metadata": {},
   "outputs": [
    {
     "name": "stdout",
     "output_type": "stream",
     "text": [
      "{'monkey', 'money'}\n"
     ]
    }
   ],
   "source": [
    "# Let's look at possible corrections of a word\n",
    "print(possible_corrections(\"monney\"))"
   ]
  },
  {
   "cell_type": "code",
   "execution_count": 15,
   "metadata": {},
   "outputs": [
    {
     "name": "stdout",
     "output_type": "stream",
     "text": [
      "0.0002922233626303688\n",
      "5.378344097491451e-06\n"
     ]
    }
   ],
   "source": [
    "# Let's look at probability of a word\n",
    "print(prob(\"money\"))\n",
    "print(prob(\"monkey\"))"
   ]
  },
  {
   "cell_type": "code",
   "execution_count": 16,
   "metadata": {},
   "outputs": [],
   "source": [
    "def spell_check(word):\n",
    "    \"Print the most probable spelling correction for `word` out of all the `possible_corrections`\"\n",
    "    correct_word = max(possible_corrections(word), key=prob)\n",
    "    if correct_word != word:\n",
    "        return \"Did you mean \" + correct_word + \"?\"\n",
    "    else:\n",
    "        return \"Correct spelling.\""
   ]
  },
  {
   "cell_type": "code",
   "execution_count": 17,
   "metadata": {},
   "outputs": [
    {
     "name": "stdout",
     "output_type": "stream",
     "text": [
      "Did you mean money?\n"
     ]
    }
   ],
   "source": [
    "# test spell check\n",
    "print(spell_check(\"monney\"))"
   ]
  },
  {
   "cell_type": "code",
   "execution_count": 19,
   "metadata": {},
   "outputs": [
    {
     "name": "stdout",
     "output_type": "stream",
     "text": [
      "442\n",
      "{'emfakize', 'emfasire', 'emfqasize', 'emfabize', 'emmasize', 'emfasizee', 'emxasize', 'emfisize', 'emfajsize', 'emfaqize', 'emfasmze', 'emfosize', 'emfapize', 'emfaslze', 'emfasized', 'emfasizme', 'emfasizej', 'emfrsize', 'emfasizpe', 'emfasice', 'efasize', 'emfatize', 'emhfasize', 'ezmfasize', 'gmfasize', 'emfhasize', 'vmfasize', 'emflasize', 'emfassize', 'emfasizer', 'emfdasize', 'emfasive', 'emfasigze', 'emjfasize', 'emfaqsize', 'enmfasize', 'emzasize', 'emkasize', 'emfasizoe', 'emfanize', 'emfaosize', 'fmfasize', 'emfasizeq', 'emfasizt', 'emfasizeb', 'emfasizp', 'emfasizeo', 'emfasite', 'emfasaze', 'emfasizez', 'emfaseze', 'empfasize', 'emfasiz', 'emfasizu', 'emfaysize', 'emfayize', 'emfasieze', 'emfasiyze', 'emfasaize', 'femfasize', 'emfasizfe', 'emfyasize', 'emfasizel', 'emfaksize', 'edfasize', 'yemfasize', 'emfasizep', 'emjasize', 'emfasizn', 'emfasioze', 'emflsize', 'emcfasize', 'jemfasize', 'emfasoize', 'emfbasize', 'emfksize', 'zmfasize', 'emfavize', 'emfasizei', 'emfasizd', 'emfasnze', 'ejfasize', 'emfasise', 'emvfasize', 'emfasiaze', 'emfaspze', 'emfasizze', 'emfaseize', 'uemfasize', 'emfasizr', 'emfasizh', 'emfwasize', 'hmfasize', 'rmfasize', 'emfbsize', 'jmfasize', 'emfasifze', 'emfxasize', 'emfasfize', 'emfassze', 'emwfasize', 'emfasizev', 'emfasbze', 'cemfasize', 'smfasize', 'pmfasize', 'exmfasize', 'mefasize', 'emfasizm', 'emfvasize', 'emfasze', 'emfwsize', 'emfashze', 'emlfasize', 'emnasize', 'wemfasize', 'emfasxize', 'emhasize', 'emafasize', 'emufasize', 'emfalsize', 'emfasiez', 'ewmfasize', 'gemfasize', 'emfasjize', 'emfaisize', 'emfasizie', 'wmfasize', 'emiasize', 'emfazize', 'eifasize', 'eimfasize', 'emyfasize', 'emfasrize', 'emfsasize', 'emfasie', 'emdfasize', 'bmfasize', 'emfasizea', 'qmfasize', 'emfasizle', 'emfasixe', 'emfasqze', 'emfaskize', 'emfasizek', 'emfacize', 'emfadsize', 'emfhsize', 'emfasizre', 'emfasine', 'efmfasize', 'qemfasize', 'emfascze', 'emvasize', 'emfamize', 'emfsize', 'emzfasize', 'eumfasize', 'oemfasize', 'emfaspize', 'evfasize', 'ecfasize', 'emtfasize', 'emfasizg', 'emfasizey', 'emfasizec', 'emfusize', 'emfasizeh', 'emfdsize', 'egfasize', 'emgasize', 'eqfasize', 'emfasizv', 'emfasixze', 'emnfasize', 'aemfasize', 'emfasizz', 'kemfasize', 'emfjasize', 'emfnasize', 'emfasizne', 'evmfasize', 'emfasizye', 'emfasizef', 'emfgasize', 'emfrasize', 'emfoasize', 'emfaoize', 'emfasizc', 'elmfasize', 'emfkasize', 'emfasiqe', 'efmasize', 'memfasize', 'emfagsize', 'emfmasize', 'emfasizem', 'emfasizeu', 'emfasige', 'emfatsize', 'emfgsize', 'emfasiuze', 'emfasdize', 'emfasizj', 'embasize', 'eefasize', 'emfasidze', 'emfansize', 'emuasize', 'emfahsize', 'emasize', 'emfasife', 'emfpsize', 'zemfasize', 'lmfasize', 'emfjsize', 'emfahize', 'xemfasize', 'emfasoze', 'emfasijze', 'emfaszize', 'empasize', 'emfaaize', 'emfasnize', 'emfasizbe', 'eafasize', 'ehmfasize', 'emfaxize', 'emfasizs', 'emfasizq', 'iemfasize', 'epfasize', 'emfawize', 'ekmfasize', 'emfasizf', 'emfaasize', 'emfasize', 'erfasize', 'emfaxsize', 'emfadize', 'emfasiue', 'kmfasize', 'emfasizqe', 'emefasize', 'exfasize', 'emfaisze', 'emfasizje', 'bemfasize', 'emftsize', 'emfasiie', 'emfamsize', 'emfasipe', 'emfasizae', 'emgfasize', 'emfasizl', 'emfysize', 'emfasiye', 'nemfasize', 'emffasize', 'emfasisze', 'emfasizk', 'emrfasize', 'emkfasize', 'emfasizve', 'emfaslize', 'eqmfasize', 'semfasize', 'etmfasize', 'emfasibze', 'emfausize', 'emfsaize', 'emfasrze', 'emfasinze', 'edmfasize', 'emfasime', 'emfasizeg', 'ewfasize', 'emfasizue', 'emfacsize', 'emfasizx', 'emqfasize', 'emfasmize', 'ehfasize', 'cmfasize', 'elfasize', 'emfasizew', 'emfasizwe', 'emfaeize', 'mfasize', 'emfasyize', 'emfasizy', 'emfasibe', 'emfasizse', 'emfagize', 'emaasize', 'emftasize', 'mmfasize', 'emfastze', 'temfasize', 'emfasuize', 'emfalize', 'emsasize', 'ebfasize', 'emfafize', 'eamfasize', 'emfaskze', 'emfssize', 'emfasizet', 'nmfasize', 'emofasize', 'emlasize', 'emfaiize', 'emfastize', 'emfarsize', 'emfasizes', 'emfasiqze', 'emfaszie', 'emfcsize', 'embfasize', 'pemfasize', 'emmfasize', 'emfpasize', 'emfesize', 'emafsize', 'remfasize', 'egmfasize', 'ecmfasize', 'emfasiae', 'emifasize', 'eyfasize', 'emfaside', 'emfqsize', 'emfascize', 'emfasizxe', 'tmfasize', 'emfasvze', 'emfasizhe', 'emxfasize', 'emfasizte', 'emfasizen', 'emfasfze', 'dmfasize', 'emfiasize', 'emfasizke', 'emfaszze', 'eufasize', 'emfasizb', 'emfasqize', 'emtasize', 'emfaswze', 'emfasxze', 'emfnsize', 'emfasitze', 'emfmsize', 'emfasizo', 'emfasivze', 'emfashize', 'enfasize', 'emfxsize', 'eomfasize', 'emcasize', 'eofasize', 'emfasirze', 'emffsize', 'emfasiize', 'emwasize', 'emfapsize', 'lemfasize', 'emfafsize', 'emfasioe', 'ejmfasize', 'emeasize', 'xmfasize', 'emfasizw', 'demfasize', 'amfasize', 'emfajize', 'emfasgize', 'ymfasize', 'emfasuze', 'emoasize', 'omfasize', 'emfasilze', 'emfarize', 'emrasize', 'emfasikze', 'emfavsize', 'emsfasize', 'emfasike', 'emfasihe', 'emfaswize', 'eemfasize', 'emfasvize', 'emfcasize', 'emfauize', 'emfasyze', 'emfasihze', 'ebmfasize', 'emfasicze', 'emfasjze', 'eymfasize', 'epmfasize', 'emfasizde', 'emyasize', 'emfasimze', 'vemfasize', 'emfasiwze', 'imfasize', 'emfasizce', 'emqasize', 'ezfasize', 'emfuasize', 'emfasizi', 'esmfasize', 'emfasbize', 'emfazsize', 'emfasiza', 'emfasile', 'effasize', 'emfzasize', 'emfabsize', 'emfasipze', 'emfaize', 'emfzsize', 'emfvsize', 'emfawsize', 'emfasdze', 'emfasizex', 'hemfasize', 'etfasize', 'emfasije', 'ermfasize', 'emfasiwe', 'emfasiee', 'emfaesize', 'emfasizge', 'ekfasize', 'esfasize', 'emfasgze', 'emdasize', 'emfeasize', 'umfasize'}\n"
     ]
    }
   ],
   "source": [
    "print(len(set(edits_one(\"emfasize\"))))\n",
    "print(edits_one(\"emfasize\"))"
   ]
  },
  {
   "cell_type": "code",
   "execution_count": 20,
   "metadata": {},
   "outputs": [
    {
     "name": "stdout",
     "output_type": "stream",
     "text": [
      "90902\n"
     ]
    }
   ],
   "source": [
    "print(len(set(edits_two(\"emfasize\"))))"
   ]
  },
  {
   "cell_type": "code",
   "execution_count": 21,
   "metadata": {},
   "outputs": [
    {
     "name": "stdout",
     "output_type": "stream",
     "text": [
      "{'emphasize'}\n"
     ]
    }
   ],
   "source": [
    "print(possible_corrections(\"emfasize\"))"
   ]
  },
  {
   "cell_type": "code",
   "execution_count": null,
   "metadata": {},
   "outputs": [],
   "source": []
  }
 ],
 "metadata": {
  "kernelspec": {
   "display_name": "Python 3",
   "language": "python",
   "name": "python3"
  },
  "language_info": {
   "codemirror_mode": {
    "name": "ipython",
    "version": 3
   },
   "file_extension": ".py",
   "mimetype": "text/x-python",
   "name": "python",
   "nbconvert_exporter": "python",
   "pygments_lexer": "ipython3",
   "version": "3.6.9"
  }
 },
 "nbformat": 4,
 "nbformat_minor": 2
}
